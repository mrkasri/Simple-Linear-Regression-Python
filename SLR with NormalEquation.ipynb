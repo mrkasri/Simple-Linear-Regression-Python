{
 "cells": [
  {
   "cell_type": "code",
   "execution_count": 1,
   "metadata": {
    "collapsed": true,
    "jupyter": {
     "outputs_hidden": true
    }
   },
   "outputs": [],
   "source": [
    "import matplotlib.pyplot as plt\n",
    "import numpy as np\n",
    "from numpy.linalg import inv\n",
    "np.set_printoptions(suppress=True)"
   ]
  },
  {
   "cell_type": "code",
   "execution_count": 2,
   "metadata": {
    "collapsed": true,
    "jupyter": {
     "outputs_hidden": true
    }
   },
   "outputs": [],
   "source": [
    "class NormalEquation(object):\n",
    "        def __init__(self,X,y):\n",
    "            #Add ones\n",
    "            self.X=np.column_stack((np.ones((X.shape[0],1)),X))\n",
    "            self.y=y\n",
    "            #n=self.X.shape[1]\n",
    "            self.Theta=np.zeros((self.X.shape[1],1))\n",
    "        \n",
    "        def computeTheta(self):\n",
    "            self.Theta =np.dot(inv(np.dot(self.X.T,self.X)),np.dot(self.X.T,y))\n",
    "            \n",
    "            \n",
    "        def predict(self,X):\n",
    "                X=np.column_stack((np.ones((X.shape[0],1)),X))\n",
    "                return np.dot(X,self.Theta)\n",
    "            \n",
    "        "
   ]
  },
  {
   "cell_type": "code",
   "execution_count": 3,
   "metadata": {},
   "outputs": [
    {
     "name": "stdout",
     "output_type": "stream",
     "text": [
      "[ 2104.     3.] 399900.0\n",
      "[ 1600.     3.] 329900.0\n",
      "[ 2400.     3.] 369000.0\n",
      "[ 1416.     2.] 232000.0\n",
      "[ 3000.     4.] 539900.0\n",
      "[ 1985.     4.] 299900.0\n",
      "[ 1534.     3.] 314900.0\n",
      "[ 1427.     3.] 198999.0\n",
      "[ 1380.     3.] 212000.0\n",
      "[ 1494.     3.] 242500.0\n"
     ]
    }
   ],
   "source": [
    "#load data\n",
    "data=np.loadtxt(\"data2.txt\",delimiter=',')\n",
    "X=data[:,0:2]\n",
    "y=data[:,2]\n",
    "\n",
    "#print the 10 first data\n",
    "for i in range(10):\n",
    "    print(X[i,:],y[i])"
   ]
  },
  {
   "cell_type": "code",
   "execution_count": 4,
   "metadata": {},
   "outputs": [
    {
     "name": "stdout",
     "output_type": "stream",
     "text": [
      "Parameters :  [ 89597.9095428     139.21067402  -8738.01911233]\n"
     ]
    }
   ],
   "source": [
    "NE=NormalEquation(X,y)\n",
    "NE.computeTheta()\n",
    "print(\"Parameters : \", NE.Theta)"
   ]
  },
  {
   "cell_type": "code",
   "execution_count": 5,
   "metadata": {},
   "outputs": [
    {
     "name": "stdout",
     "output_type": "stream",
     "text": [
      "293081.4643348954\n"
     ]
    }
   ],
   "source": [
    "#predict some values\n",
    "s=np.matrix([1650,3])\n",
    "\n",
    "print(float(NE.predict(s)))"
   ]
  },
  {
   "cell_type": "code",
   "execution_count": null,
   "metadata": {
    "collapsed": true,
    "jupyter": {
     "outputs_hidden": true
    }
   },
   "outputs": [],
   "source": []
  }
 ],
 "metadata": {
  "kernelspec": {
   "display_name": "Python 3",
   "language": "python",
   "name": "python3"
  },
  "language_info": {
   "codemirror_mode": {
    "name": "ipython",
    "version": 3
   },
   "file_extension": ".py",
   "mimetype": "text/x-python",
   "name": "python",
   "nbconvert_exporter": "python",
   "pygments_lexer": "ipython3",
   "version": "3.7.4"
  }
 },
 "nbformat": 4,
 "nbformat_minor": 4
}
