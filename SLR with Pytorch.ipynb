{
 "cells": [
  {
   "cell_type": "markdown",
   "metadata": {},
   "source": [
    "## Simple Linear Regression (pytorch) الارتباط الخطي "
   ]
  },
  {
   "cell_type": "markdown",
   "metadata": {},
   "source": [
    "## 1 - Import liberaries استيراد المكتبات"
   ]
  },
  {
   "cell_type": "code",
   "execution_count": 1,
   "metadata": {},
   "outputs": [],
   "source": [
    "%matplotlib inline\n",
    "import matplotlib.pyplot as plt\n",
    "import numpy as np\n",
    "import torch\n",
    "import torch.nn as nn"
   ]
  },
  {
   "cell_type": "markdown",
   "metadata": {},
   "source": [
    "## 2 - Load the data تحميل البيانات"
   ]
  },
  {
   "cell_type": "code",
   "execution_count": 2,
   "metadata": {},
   "outputs": [],
   "source": [
    "data= np.loadtxt('data.txt',delimiter=',')\n",
    "X=data[:,0].reshape(-1, 1)\n",
    "y=data[:,1].reshape(-1, 1)\n",
    "del data"
   ]
  },
  {
   "cell_type": "markdown",
   "metadata": {},
   "source": [
    "## 3 - Plotting the data تمثيل المعطيات على شكل بياني"
   ]
  },
  {
   "cell_type": "code",
   "execution_count": 3,
   "metadata": {},
   "outputs": [
    {
     "data": {
      "image/png": "[encoded data removed]",
      "text/plain": [
       "<Figure size 576x360 with 1 Axes>"
      ]
     },
     "metadata": {
      "needs_background": "light"
     },
     "output_type": "display_data"
    }
   ],
   "source": [
    "def plotData(X,y):\n",
    "    plt.figure(figsize=(8,5))\n",
    "    plt.plot(X,y,'rx',markersize=5)\n",
    "    plt.ylabel('Profit in $10,000s')\n",
    "    plt.xlabel('Population of City in 10,000s')\n",
    "    plt.show()\n",
    "\n",
    "plotData(X,y)"
   ]
  },
  {
   "cell_type": "markdown",
   "metadata": {},
   "source": [
    "## 4 - Create linear model  إنشاء نموذج خطي"
   ]
  },
  {
   "cell_type": "code",
   "execution_count": 4,
   "metadata": {},
   "outputs": [],
   "source": [
    "# Create class\n",
    "class LinearRegressionModel(nn.Module):\n",
    "    def __init__(self, input_dim, output_dim):\n",
    "        super(LinearRegressionModel, self).__init__()\n",
    "        self.linear = nn.Linear(input_dim, output_dim)  \n",
    "    \n",
    "    def forward(self, x):\n",
    "        out = self.linear(x)\n",
    "        return out"
   ]
  },
  {
   "cell_type": "markdown",
   "metadata": {},
   "source": [
    "## 5 - Parameters الإعدادات اللازمة للتدريب"
   ]
  },
  {
   "cell_type": "code",
   "execution_count": 5,
   "metadata": {},
   "outputs": [],
   "source": [
    "input_dim = 1\n",
    "output_dim = 1\n",
    "epochs = 3000\n",
    "learning_rate = 0.01\n",
    "criterion = nn.MSELoss()\n"
   ]
  },
  {
   "cell_type": "code",
   "execution_count": 6,
   "metadata": {},
   "outputs": [],
   "source": [
    "model = LinearRegressionModel(input_dim, output_dim)"
   ]
  },
  {
   "cell_type": "code",
   "execution_count": 7,
   "metadata": {},
   "outputs": [],
   "source": [
    "optimizer = torch.optim.SGD(model.parameters(), lr=learning_rate)"
   ]
  },
  {
   "cell_type": "code",
   "execution_count": 8,
   "metadata": {},
   "outputs": [
    {
     "name": "stdout",
     "output_type": "stream",
     "text": [
      "epoch 1, loss 10.585762977600098\n",
      "epoch 101, loss 9.7337007522583\n",
      "epoch 201, loss 9.33260440826416\n",
      "epoch 301, loss 9.137825965881348\n",
      "epoch 401, loss 9.043238639831543\n",
      "epoch 501, loss 8.997305870056152\n",
      "epoch 601, loss 8.975000381469727\n",
      "epoch 701, loss 8.964168548583984\n",
      "epoch 801, loss 8.958908081054688\n",
      "epoch 901, loss 8.956354141235352\n",
      "epoch 1001, loss 8.955113410949707\n",
      "epoch 1101, loss 8.954510688781738\n",
      "epoch 1201, loss 8.954218864440918\n",
      "epoch 1301, loss 8.954075813293457\n",
      "epoch 1401, loss 8.954007148742676\n",
      "epoch 1501, loss 8.953973770141602\n",
      "epoch 1601, loss 8.953957557678223\n",
      "epoch 1701, loss 8.953949928283691\n",
      "epoch 1801, loss 8.953946113586426\n",
      "epoch 1901, loss 8.953944206237793\n",
      "epoch 2001, loss 8.953943252563477\n",
      "epoch 2101, loss 8.95394229888916\n",
      "epoch 2201, loss 8.953943252563477\n",
      "epoch 2301, loss 8.95394229888916\n",
      "epoch 2401, loss 8.95394229888916\n",
      "epoch 2501, loss 8.95394229888916\n",
      "epoch 2601, loss 8.95394229888916\n",
      "epoch 2701, loss 8.95394229888916\n",
      "epoch 2801, loss 8.95394229888916\n",
      "epoch 2901, loss 8.95394229888916\n"
     ]
    }
   ],
   "source": [
    "for epoch in range(epochs):\n",
    "\n",
    "    # Convert numpy array to torch Variable\n",
    "    inputs = torch.from_numpy(X).float().requires_grad_()\n",
    "    labels = torch.from_numpy(y).float()\n",
    "\n",
    "    # Clear gradients w.r.t. parameters\n",
    "    optimizer.zero_grad() \n",
    "    \n",
    "    # Forward to get output\n",
    "    outputs = model(inputs)\n",
    "    \n",
    "    # Calculate Loss\n",
    "    loss = criterion(outputs, labels)\n",
    "    \n",
    "    # Getting gradients w.r.t. parameters\n",
    "    loss.backward()\n",
    "    \n",
    "    # Updating parameters\n",
    "    optimizer.step()\n",
    "    if (epoch % 100) == 1:\n",
    "        print('epoch {}, loss {}'.format(epoch, loss.item()))"
   ]
  },
  {
   "cell_type": "code",
   "execution_count": 9,
   "metadata": {},
   "outputs": [
    {
     "name": "stdout",
     "output_type": "stream",
     "text": [
      "For population = 150,000, we predict a profit of  139996.94\n",
      "For population = 75,000, we predict a profit of  50519.88\n"
     ]
    }
   ],
   "source": [
    "value_1 = torch.Tensor([[15.0]])\n",
    "value_2 = torch.Tensor([[7.5]])\n",
    "\n",
    "print('For population = 150,000, we predict a profit of ','%0.2f'%(model(value_1).data.numpy()[0][0]*10000))\n",
    "print('For population = 75,000, we predict a profit of ','%0.2f'%(model(value_2).data.numpy()[0][0]*10000))\n",
    "\n"
   ]
  },
  {
   "cell_type": "code",
   "execution_count": 10,
   "metadata": {},
   "outputs": [
    {
     "data": {
      "image/png": "[encoded data removed]",
      "text/plain": [
       "<Figure size 432x288 with 1 Axes>"
      ]
     },
     "metadata": {
      "needs_background": "light"
     },
     "output_type": "display_data"
    }
   ],
   "source": [
    "\n",
    "# Clear figure\n",
    "plt.clf()\n",
    "\n",
    "# Get predictions\n",
    "predicted = model(torch.from_numpy(X).float().requires_grad_()).data.numpy()\n",
    "\n",
    "# Plot true data\n",
    "plt.plot(X,y,'rx',markersize=5, label='Training Data')\n",
    "\n",
    "# Plot predictions\n",
    "plt.plot(X, predicted, '--', label='Model: y = %0.2f + %0.2fx'%(model.linear.bias,model.linear.weight), alpha=0.5)\n",
    "\n",
    "# Legend and plot\n",
    "plt.legend(loc='best')\n",
    "plt.show()"
   ]
  },
  {
   "cell_type": "code",
   "execution_count": null,
   "metadata": {},
   "outputs": [],
   "source": []
  }
 ],
 "metadata": {
  "kernelspec": {
   "display_name": "Python 3",
   "language": "python",
   "name": "python3"
  },
  "language_info": {
   "codemirror_mode": {
    "name": "ipython",
    "version": 3
   },
   "file_extension": ".py",
   "mimetype": "text/x-python",
   "name": "python",
   "nbconvert_exporter": "python",
   "pygments_lexer": "ipython3",
   "version": "3.7.4"
  }
 },
 "nbformat": 4,
 "nbformat_minor": 4
}
